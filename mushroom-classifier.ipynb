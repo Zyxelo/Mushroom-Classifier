{
 "cells": [
  {
   "cell_type": "markdown",
   "metadata": {},
   "source": [
    "# Capstone Mushroom Classification "
   ]
  },
  {
   "cell_type": "markdown",
   "metadata": {},
   "source": [
    "The \n",
    "\n",
    "First we use beautifulSoup to scrape the website \"svampguiden.com\" to get the names of the most common mushrooms in Sweden. We will save these in a dictionary together with a label describing if they are edible or not.  "
   ]
  },
  {
   "cell_type": "code",
   "execution_count": 4,
   "metadata": {
    "collapsed": true
   },
   "outputs": [],
   "source": [
    "from urllib.request import urlopen, Request\n",
    "from bs4 import BeautifulSoup\n"
   ]
  },
  {
   "cell_type": "code",
   "execution_count": 5,
   "metadata": {
    "collapsed": true
   },
   "outputs": [],
   "source": [
    "# Specify url of mushroom website\n",
    "mushroom_url = 'http://svampguiden.com/databasen/lista/'\n",
    "\n",
    "page = urlopen(mushroom_url)\n",
    "soup = BeautifulSoup(page, 'html.parser')\n"
   ]
  },
  {
   "cell_type": "code",
   "execution_count": 6,
   "metadata": {
    "collapsed": true
   },
   "outputs": [],
   "source": [
    "latin_html = soup.find_all(class_=\"vnamn\")"
   ]
  },
  {
   "cell_type": "markdown",
   "metadata": {},
   "source": [
    "Some of the latin names have a last part to their name \"lat.sv\" that makes the google image searches a lot worse. Removing this makes the names yeild a lot better results on google. Also, the names are all 2 words long so we only have to look at the first two names"
   ]
  },
  {
   "cell_type": "code",
   "execution_count": 7,
   "metadata": {
    "collapsed": true
   },
   "outputs": [],
   "source": [
    "mushroom_dict = {}\n",
    "for name in latin_html:\n",
    "    mushroom_list = name.get_text().split()\n",
    "    mushroom_dict[\" \".join(mushroom_list[0:2])] = 1"
   ]
  },
  {
   "cell_type": "code",
   "execution_count": 8,
   "metadata": {},
   "outputs": [
    {
     "name": "stdout",
     "output_type": "stream",
     "text": [
      "371\n",
      "377\n"
     ]
    }
   ],
   "source": [
    "print(len(mushroom_dict))\n",
    "print(len(latin_html))"
   ]
  },
  {
   "cell_type": "markdown",
   "metadata": {},
   "source": [
    "### Scraping Google Images for pictures "
   ]
  },
  {
   "cell_type": "code",
   "execution_count": 9,
   "metadata": {},
   "outputs": [],
   "source": [
    "import requests\n",
    "import re\n",
    "import os\n",
    "#import cookielib\n",
    "import json\n",
    "\n",
    "def get_soup(url,header):\n",
    "    return BeautifulSoup(urlopen(Request(url,headers=header)),'html.parser')\n",
    "\n",
    "def get_pictures(query):\n",
    "    query = query # you can change the query for the image  here\n",
    "    image_type=\"ActiOn\"\n",
    "    query= query.split()\n",
    "    query='+'.join(query)\n",
    "    url=\"https://www.google.co.in/search?q=\"+query+\"&source=lnms&tbm=isch\"\n",
    "    print(url)\n",
    "    #add the directory for your image here\n",
    "    DIR=\"pictures\"\n",
    "    header={'User-Agent':\"Mozilla/5.0 (Windows NT 6.1; WOW64) AppleWebKit/537.36 (KHTML, like Gecko) Chrome/43.0.2357.134 Safari/537.36\"\n",
    "    }\n",
    "    soup = get_soup(url,header)\n",
    "\n",
    "\n",
    "    ActualImages=[]# contains the link for Large original images, type of  image\n",
    "    for a in soup.find_all(\"div\",{\"class\":\"rg_meta\"}):\n",
    "        link , Type =json.loads(a.text)[\"ou\"]  ,json.loads(a.text)[\"ity\"]\n",
    "        ActualImages.append((link,Type))\n",
    "\n",
    "    print(\"there are total {} images\".format(len(ActualImages)))\n",
    "\n",
    "    if not os.path.exists(DIR):\n",
    "        os.mkdir(DIR)\n",
    "    DIR = os.path.join(DIR, query.split()[0])\n",
    "\n",
    "    if not os.path.exists(DIR):\n",
    "        os.mkdir(DIR)\n",
    "        ###print images\n",
    "        for i , (img , Type) in enumerate( ActualImages):\n",
    "\n",
    "            try:\n",
    "                #req = request(img, headers={'User-Agent' : header})\n",
    "                raw_img = urlopen(img).read()\n",
    "\n",
    "                cntr = len([i for i in os.listdir(DIR) if image_type in i]) + 1\n",
    "                #print(cntr)\n",
    "                if len(Type)==0:\n",
    "                    f = open(os.path.join(DIR , image_type + \"_\"+ str(cntr)+\".jpg\"), 'wb')\n",
    "                else :\n",
    "                    f = open(os.path.join(DIR , image_type + \"_\"+ str(cntr)+\".\"+Type), 'wb')\n",
    "\n",
    "\n",
    "                f.write(raw_img)\n",
    "                f.close()\n",
    "            except Exception as e:\n",
    "                print(\"could not load : {}\".format(img))\n",
    "                print(e)\n",
    "    else: \n",
    "        print(DIR)"
   ]
  },
  {
   "cell_type": "code",
   "execution_count": null,
   "metadata": {},
   "outputs": [
    {
     "name": "stdout",
     "output_type": "stream",
     "text": [
      "Downloading pictures for Leotia lubrica\n",
      "https://www.google.co.in/search?q=Leotia+lubrica&source=lnms&tbm=isch\n",
      "there are total 100 images\n",
      "could not load : http://wpamushroomclub.org/wp/wp-content/uploads/2017/06/Leotia-lubrica.-Close-up.-By-Richard-Jacob.jpg\n",
      "HTTP Error 404: Not Found\n",
      "could not load : http://i1.treknature.com/photos/482/leotia.jpg\n",
      "HTTP Error 403: Forbidden\n",
      "Done with iteration 0: Leotia lubrica \n",
      "Downloading pictures for Cyathus striatus\n",
      "https://www.google.co.in/search?q=Cyathus+striatus&source=lnms&tbm=isch\n",
      "there are total 100 images\n",
      "could not load : http://timwheelerphotography.com/wp-content/uploads/2014/10/Cyathus_striatus_F2008.jpg\n",
      "HTTP Error 403: Forbidden\n",
      "Done with iteration 1: Cyathus striatus \n",
      "Downloading pictures for Dumontinia tuberosa\n",
      "https://www.google.co.in/search?q=Dumontinia+tuberosa&source=lnms&tbm=isch\n",
      "there are total 100 images\n",
      "Done with iteration 2: Dumontinia tuberosa \n",
      "Downloading pictures for Aureoboletus gentilis\n",
      "https://www.google.co.in/search?q=Aureoboletus+gentilis&source=lnms&tbm=isch\n",
      "there are total 100 images\n",
      "could not load : http://www.igoterra.com/photo/78/020358.JPG\n",
      "HTTP Error 403: Forbidden\n",
      "could not load : https://c1.staticflickr.com/3/2810/33008882104_79343e926b_b.jpg\n",
      "HTTP Error 502: Bad Gateway\n",
      "Done with iteration 3: Aureoboletus gentilis \n",
      "Downloading pictures for Amanita gemmata\n",
      "https://www.google.co.in/search?q=Amanita+gemmata&source=lnms&tbm=isch\n",
      "there are total 100 images\n",
      "could not load : http://www.wildfooduk.com/uploads/mushrooms/46/cropped/Gemmed%204.jpg\n",
      "HTTP Error 403: Forbidden\n",
      "could not load : http://www.wildfooduk.com/uploads/mushrooms/46/cropped/Gemmed%204%20350.jpg\n",
      "HTTP Error 403: Forbidden\n",
      "could not load : http://mushroomobserver.org/images/1280/111526.jpg\n",
      "HTTP Error 404: Not Found\n",
      "could not load : https://www.fungipedia.org/images/galerias/amanita_gemmata/amanita_gemmata2.jpg\n",
      "HTTP Error 403: Forbidden\n",
      "could not load : http://www.geochembio.com/IMG/guides/Amanita-russuloides-1.jpg\n",
      "HTTP Error 403: Forbidden\n",
      "could not load : http://www.wildfooduk.com/uploads/mushrooms/46/cropped/Gemmed%202%20350.jpg\n",
      "HTTP Error 403: Forbidden\n",
      "could not load : https://www.fungipedia.org/images/galerias/amanita_gemmata/amanita_gemmata4.jpg\n",
      "HTTP Error 403: Forbidden\n",
      "could not load : http://www.wildfooduk.com/uploads/mushrooms/46/cropped/Gemmed%203%20350.jpg\n",
      "HTTP Error 403: Forbidden\n",
      "could not load : https://www.fungipedia.org/images/galerias/amanita_gemmata/amanita_gemmata1.jpg\n",
      "HTTP Error 403: Forbidden\n",
      "could not load : http://www.wildfooduk.com/uploads/mushrooms/46/cropped/Gemmed%206.jpg\n",
      "HTTP Error 403: Forbidden\n",
      "could not load : http://www.londonfungusgroup.org.uk/wp-content/uploads/2013/03/amanita%20gemmata.jpg\n",
      "HTTP Error 403: Forbidden\n",
      "could not load : http://www.krescht.com/Amanita_gemmata011.jpg\n",
      "HTTP Error 403: Forbidden\n",
      "Done with iteration 4: Amanita gemmata \n",
      "Downloading pictures for Lactarius deliciosus\n",
      "https://www.google.co.in/search?q=Lactarius+deliciosus&source=lnms&tbm=isch\n",
      "there are total 100 images\n",
      "could not load : http://yesofcorsa.com/wp-content/uploads/2017/08/Lactarius-Deliciosus-Best-Wallpaper.jpg\n",
      "HTTP Error 403: Forbidden\n",
      "Done with iteration 5: Lactarius deliciosus \n",
      "Downloading pictures for Paxillus involutus\n",
      "https://www.google.co.in/search?q=Paxillus+involutus&source=lnms&tbm=isch\n",
      "there are total 100 images\n",
      "could not load : https://www.fungipedia.org/images/galerias/paxillus_involutus/paxillus_involutus1.jpg\n",
      "HTTP Error 403: Forbidden\n",
      "could not load : https://www.fungipedia.org/images/galerias/paxillus_involutus/paxillus_involutus3.jpg\n",
      "HTTP Error 403: Forbidden\n",
      "could not load : https://farm4.staticflickr.com/3288/2911872147_22fb801bc2_b.jpg\n",
      "HTTP Error 502: Bad Gateway\n",
      "Done with iteration 6: Paxillus involutus \n",
      "Downloading pictures for Mycena pelianthina\n",
      "https://www.google.co.in/search?q=Mycena+pelianthina&source=lnms&tbm=isch\n",
      "there are total 100 images\n",
      "could not load : http://www.mycena.no/Bilder/Mycena_pelianthina.jpg\n",
      "HTTP Error 403: Forbidden\n",
      "could not load : http://www.krescht.com/Mycena_pelianthina003.jpg\n",
      "HTTP Error 403: Forbidden\n",
      "could not load : http://www.mycena.no/Bilder/mycena_pura1.jpg\n",
      "HTTP Error 403: Forbidden\n",
      "could not load : http://www.almerinatura.com/galerias/novedades/1210/images/seta446.jpg\n",
      "HTTP Error 403: Forbidden\n",
      "could not load : https://www.fungipedia.org/images/galerias/mycena_pura/mycena_pura3.jpg\n",
      "HTTP Error 403: Forbidden\n",
      "Done with iteration 7: Mycena pelianthina \n",
      "Downloading pictures for Hericium coralloides\n",
      "https://www.google.co.in/search?q=Hericium+coralloides&source=lnms&tbm=isch\n",
      "there are total 100 images\n",
      "could not load : https://www.milkwood.net/wp-content/uploads/2012/09/last-import-1.jpg\n",
      "HTTP Error 403: Forbidden\n",
      "could not load : http://www.ediblewildfood.com/images/comb-tooth-fungus-pictures/hericium-coralloides.jpg\n",
      "HTTP Error 403: Forbidden\n",
      "could not load : https://www.milkwood.net/wp-content/uploads/2012/09/last-import-2.jpg\n",
      "HTTP Error 403: Forbidden\n",
      "could not load : http://silysavg.com/naturespickings/mushroomreport/images/hericium_coralloides_held_laurelhill_9-15-09.jpg\n",
      "HTTP Error 403: Forbidden\n",
      "could not load : http://www.ediblewildfood.com/images/comb-tooth-fungus-pictures/comb-tooth-mushroom.jpg\n",
      "HTTP Error 403: Forbidden\n",
      "could not load : http://silysavg.com/naturespickings/mushroomreport/images/hericium_coralloides_close_laurelhill_9-15-09.jpg\n",
      "HTTP Error 403: Forbidden\n",
      "Done with iteration 8: Hericium coralloides \n",
      "Downloading pictures for Flammulina velutipes\n",
      "https://www.google.co.in/search?q=Flammulina+velutipes&source=lnms&tbm=isch\n",
      "there are total 100 images\n",
      "could not load : http://www.ashevillemushroomclub.com/images/gallery/mushrooms/enoki-1.jpg\n",
      "HTTP Error 403: Forbidden\n",
      "could not load : https://selbyshrooms.com.au/wp-content/uploads/sites/10/2016/05/enoki3.jpg\n",
      "HTTP Error 403: Forbidden\n",
      "could not load : http://www.extractchina.com/uploads/161110/3-161110000JX28.jpg\n",
      "HTTP Error 503: Service Unavailable\n",
      "Done with iteration 9: Flammulina velutipes \n",
      "Downloading pictures for Cantharellus cibarius\n",
      "https://www.google.co.in/search?q=Cantharellus+cibarius&source=lnms&tbm=isch\n",
      "there are total 100 images\n",
      "could not load : http://i1.treknature.com/photos/6964/emmerdennen_210906_hanekam.jpg\n",
      "HTTP Error 403: Forbidden\n",
      "could not load : https://static.pexels.com/photos/209380/pexels-photo-209380.jpeg\n",
      "HTTP Error 403: Forbidden\n",
      "could not load : http://www.silysavg.com/naturespickings/mushroomreport/images/chanterelles_held_kregar_july27_2010.jpg\n",
      "HTTP Error 403: Forbidden\n",
      "Done with iteration 10: Cantharellus cibarius \n",
      "Downloading pictures for Coprinopsis picacea\n",
      "https://www.google.co.in/search?q=Coprinopsis+picacea&source=lnms&tbm=isch\n",
      "there are total 100 images\n",
      "could not load : http://www.fotothing.com/photos/95e/95e02adaab6c9f59f1ac2ec192c4560d.jpg\n",
      "HTTP Error 403: Forbidden\n",
      "Done with iteration 11: Coprinopsis picacea \n",
      "Downloading pictures for Hygrophorus camarophyllus\n",
      "https://www.google.co.in/search?q=Hygrophorus+camarophyllus&source=lnms&tbm=isch\n",
      "there are total 100 images\n"
     ]
    }
   ],
   "source": [
    "for idx, name in enumerate(mushroom_dict): \n",
    "    print(\"Downloading pictures for {}\".format(name))\n",
    "    get_pictures(name)\n",
    "    print(\"Done with iteration {}: {} \".format(idx, name))"
   ]
  },
  {
   "cell_type": "markdown",
   "metadata": {
    "collapsed": true
   },
   "source": [
    "## Preprocessing \n",
    "The pictures are now downloaded and we should preprocess them to be able to feed them into the keras model "
   ]
  },
  {
   "cell_type": "code",
   "execution_count": null,
   "metadata": {
    "collapsed": true
   },
   "outputs": [],
   "source": []
  }
 ],
 "metadata": {
  "kernelspec": {
   "display_name": "Python 3",
   "language": "python",
   "name": "python3"
  },
  "language_info": {
   "codemirror_mode": {
    "name": "ipython",
    "version": 3
   },
   "file_extension": ".py",
   "mimetype": "text/x-python",
   "name": "python",
   "nbconvert_exporter": "python",
   "pygments_lexer": "ipython3",
   "version": "3.5.4"
  }
 },
 "nbformat": 4,
 "nbformat_minor": 2
}
